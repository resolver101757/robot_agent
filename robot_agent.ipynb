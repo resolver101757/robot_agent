{
 "cells": [
  {
   "cell_type": "markdown",
   "metadata": {},
   "source": [
    "# import libraries and setup environment"
   ]
  },
  {
   "cell_type": "code",
   "execution_count": 1,
   "metadata": {},
   "outputs": [],
   "source": [
    "from openai import OpenAI \n",
    "import json \n",
    "from pprint import pprint\n",
    "import time\n"
   ]
  },
  {
   "cell_type": "code",
   "execution_count": 2,
   "metadata": {},
   "outputs": [
    {
     "name": "stdout",
     "output_type": "stream",
     "text": [
      "1.3.7\n"
     ]
    }
   ],
   "source": [
    "# check open ai version \n",
    "import openai\n",
    "\n",
    "print(openai.__version__)\n"
   ]
  },
  {
   "cell_type": "code",
   "execution_count": 3,
   "metadata": {},
   "outputs": [],
   "source": [
    "# loads API keys from a local file\n",
    "with open('api_keys.json', 'r') as file:\n",
    "    config = json.load(file)\n",
    "\n",
    "openai_api_key = config['OPENAI_API_KEY']"
   ]
  },
  {
   "cell_type": "code",
   "execution_count": 4,
   "metadata": {},
   "outputs": [],
   "source": [
    "client = OpenAI(api_key=openai_api_key)"
   ]
  },
  {
   "cell_type": "markdown",
   "metadata": {},
   "source": [
    "# Setup tooling "
   ]
  },
  {
   "cell_type": "code",
   "execution_count": 5,
   "metadata": {},
   "outputs": [
    {
     "data": {
      "text/plain": [
       "[{'type': 'retrieval'}]"
      ]
     },
     "execution_count": 5,
     "metadata": {},
     "output_type": "execute_result"
    }
   ],
   "source": [
    "tools = [{'type': 'retrieval'}]\n",
    "tools"
   ]
  },
  {
   "cell_type": "code",
   "execution_count": 6,
   "metadata": {},
   "outputs": [],
   "source": [
    "# Custom function to Send an email\n",
    "direction = {\n",
    "    \"name\": \"direction_to_move\",\n",
    "    \"description\": \"Moves the forward, backward, left or right\",\n",
    "    \"parameters\": {\n",
    "        \"type\": \"object\",\n",
    "        \"properties\": {\n",
    "            \"direction\" : {\n",
    "                \"type\": \"string\",\n",
    "                \"description\" : \"choose the direction to move the robot, the options are forward, backward, left or right\"\n",
    "            },\n",
    "            \"speed\": {\n",
    "                \"type\": \"integer\",\n",
    "                \"description\" : \"speed of the robot, the range is between 0 and 100, if not option is given, choose the default 50\"\n",
    "\n",
    "            },\n",
    "        }\n",
    "    },\n",
    "    \"required\": [\"direction\", \"speed\"]\n",
    "}\n"
   ]
  },
  {
   "cell_type": "code",
   "execution_count": 7,
   "metadata": {},
   "outputs": [
    {
     "name": "stdout",
     "output_type": "stream",
     "text": [
      "[{'type': 'retrieval'}, {'type': 'function', 'function': {'name': 'direction_to_move', 'description': 'Moves the forward, backward, left or right', 'parameters': {'type': 'object', 'properties': {'direction': {'type': 'string', 'description': 'choose the direction to move the robot, the options are forward, backward, left or right'}, 'speed': {'type': 'integer', 'description': 'speed of the robot, the range is between 0 and 100, if not option is given, choose the default 50'}}}, 'required': ['direction', 'speed']}}]\n"
     ]
    }
   ],
   "source": [
    "\n",
    "tools.append({'type': 'function', 'function': direction})\n",
    "\n",
    "print(tools)"
   ]
  },
  {
   "cell_type": "code",
   "execution_count": null,
   "metadata": {},
   "outputs": [],
   "source": []
  },
  {
   "cell_type": "markdown",
   "metadata": {},
   "source": [
    "# Create a robot agent (openai assistant)"
   ]
  },
  {
   "cell_type": "code",
   "execution_count": null,
   "metadata": {},
   "outputs": [],
   "source": [
    "# you can ignore this one as its already been created \n",
    "assistant = client.beta.assistants.create(\n",
    "    name=\"Robot_Agent\",\n",
    "    instructions=\"you area four wheeled robot that can move forward, backward, left, and right, you are awaiting instructions from the user.\",\n",
    "    tools = tools,\n",
    "    model=\"gpt-4-1106-preview\"\n",
    ")\n",
    "print(assistant)"
   ]
  },
  {
   "cell_type": "code",
   "execution_count": 8,
   "metadata": {},
   "outputs": [
    {
     "name": "stdout",
     "output_type": "stream",
     "text": [
      "Assistant(id='asst_9AIjIzXOSklI4nDl9LC7ICMR', created_at=1701704986, description=None, file_ids=[], instructions='you area four wheeled robot that can move forward, backward, left, and right, you are awaiting instructions from the user.', metadata={}, model='gpt-4-1106-preview', name='Robot_Agent', object='assistant', tools=[ToolRetrieval(type='retrieval'), ToolFunction(function=FunctionDefinition(name='direction_to_move', parameters={'type': 'object', 'properties': {'direction': {'type': 'string', 'description': 'choose the direction to move the robot, the options are forward, backward, left or right'}, 'speed': {'type': 'integer', 'description': 'speed of the robot, the range is between 0 and 100, if not option is given, choose the default 50'}}}, description='Moves the forward, backward, left or right'), type='function')])\n"
     ]
    }
   ],
   "source": [
    "#call this anytime you want to update an existing assistant\n",
    "assistant = client.beta.assistants.update (\n",
    "    \"asst_9AIjIzXOSklI4nDl9LC7ICMR\",\n",
    "    instructions=\"you area four wheeled robot that can move forward, backward, left, and right, you are awaiting instructions from the user.\",\n",
    "    tools=tools,\n",
    "    model =\"gpt-4-1106-preview\")\n",
    "\n",
    "print(assistant)"
   ]
  },
  {
   "cell_type": "code",
   "execution_count": 10,
   "metadata": {},
   "outputs": [
    {
     "name": "stdout",
     "output_type": "stream",
     "text": [
      "[Assistant(id='asst_9AIjIzXOSklI4nDl9LC7ICMR', created_at=1701704986, description=None, file_ids=[], instructions='you area four wheeled robot that can move forward, backward, left, and right, you are awaiting instructions from the user.', metadata={}, model='gpt-4-1106-preview', name='Robot_Agent', object='assistant', tools=[ToolRetrieval(type='retrieval'), ToolFunction(function=FunctionDefinition(name='direction_to_move', parameters={'type': 'object', 'properties': {'direction': {'type': 'string', 'description': 'choose the direction to move the robot, the options are forward, backward, left or right'}, 'speed': {'type': 'integer', 'description': 'speed of the robot, the range is between 0 and 100, if not option is given, choose the default 50'}}}, description='Moves the forward, backward, left or right'), type='function')]),\n",
      " Assistant(id='asst_7PKKgdYEgLT8V3vGPmZVreVV', created_at=1699368801, description=None, file_ids=['file-2A71jKOJp89WGd3Ua2mfCKHO', 'file-2mCiMGLV3KjUPnVstX4Teuzx', 'file-FCPQgtz0qHtswusFKuDTQLtd', 'file-GKnh8KhZ97krxalBL6B2Cmfm', 'file-kdq2ewjnRlhk4r2YXe0ucUUN', 'file-OwxM119gVxMpxtxKEbIYNeGS', 'file-1eJ2wDRwNJ9933QbGiNKRqLH', 'file-lyQ2zimdRnBFouN98oRkAXXz', 'file-z4NSsxILcOaRQwrdvLTwKGUf', 'file-qPRNNurtAesW08V6JIGPSHcs', 'file-JARXcsUY9dyfwZwBVsZNXxDm', 'file-jT8YRxNAmGbXjfZgzWmkJcca', 'file-TOcIOmJPoWYZAV3AKhxSDf06', 'file-LKbEzL2G7pZI2rA4PKzeT9nh', 'file-WmSm877i9vCpjZyRJQeNx9be', 'file-Q80hbVf7bsrRFmrTKiOsQZn0'], instructions='Your an AI assistant developer for Fast.AI, you will be incredibly helpful for your student / developer.   The retrieval files shows mini ai files', metadata={}, model='gpt-4-1106-preview', name='fast.ia developer ', object='assistant', tools=[ToolCodeInterpreter(type='code_interpreter'), ToolRetrieval(type='retrieval')])]\n"
     ]
    }
   ],
   "source": [
    "#to retrieve all your defined assistants\n",
    "my_assistants = client.beta.assistants.list(\n",
    "    order=\"desc\",\n",
    "    limit = \"20\"\n",
    ")\n",
    "\n",
    "pprint(my_assistants.data)"
   ]
  },
  {
   "cell_type": "markdown",
   "metadata": {},
   "source": [
    "\n",
    "# Create a the thread for the robot agent\n",
    "\n",
    "A Thread represents a conversation session between the assistant and a user. It stores Messages, providing context for ongoing interactions."
   ]
  },
  {
   "cell_type": "code",
   "execution_count": 11,
   "metadata": {},
   "outputs": [],
   "source": [
    "# Creates a new conversation\n",
    "thread = client.beta.threads.create()"
   ]
  },
  {
   "cell_type": "code",
   "execution_count": 12,
   "metadata": {},
   "outputs": [
    {
     "name": "stdout",
     "output_type": "stream",
     "text": [
      "ThreadMessage(id='msg_jQ1Ad82bkcGpWio92vPSbDsJ', assistant_id=None, content=[MessageContentText(text=Text(annotations=[], value='please move forward, then backward, then turn left, then turn right'), type='text')], created_at=1701708241, file_ids=[], metadata={}, object='thread.message', role='user', run_id=None, thread_id='thread_QdAC4o0lxc8iZlSI3VEzUlYr')\n"
     ]
    }
   ],
   "source": [
    "# Create a new message in the thread as the user (role) \n",
    "# this doesnt run the model yet\n",
    "message = client.beta.threads.messages.create(\n",
    "    thread_id = thread.id,\n",
    "    role = 'user',\n",
    "    content='please move forward, then backward, then turn left, then turn right'\n",
    ")\n",
    "print(message)"
   ]
  },
  {
   "cell_type": "code",
   "execution_count": null,
   "metadata": {},
   "outputs": [],
   "source": [
    "# this runs the model with the input from thread \n",
    "run = client.beta.threads.runs.create(\n",
    "    thread_id = thread.id,\n",
    "    assistant_id = assistant.id,\n",
    ")\n",
    "\n",
    "print(run.id)"
   ]
  },
  {
   "cell_type": "code",
   "execution_count": null,
   "metadata": {},
   "outputs": [],
   "source": [
    "# This retrieves the output from the model\n",
    "run = client.beta.threads.runs.retrieve(\n",
    "    thread_id = thread.id,\n",
    "    run_id = run.id\n",
    ")\n",
    "\n",
    "print(run.status)"
   ]
  },
  {
   "cell_type": "code",
   "execution_count": null,
   "metadata": {},
   "outputs": [],
   "source": [
    "# This checks the run status and waits until the run is completed or has failed or requires action\n",
    "# and then prints the status.  Basically it waits until the model has finished running\n",
    "while run.status not in [\"completed\", \"failed\", \"requires_action\"]:\n",
    "    run = client.beta.threads.runs.retrieve(\n",
    "thread_id = thread.id,\n",
    "run_id = run.id\n",
    ")\n",
    "\n",
    "print(run.status)\n",
    "time.sleep(10)\n",
    "print(run.status)"
   ]
  },
  {
   "cell_type": "code",
   "execution_count": null,
   "metadata": {},
   "outputs": [],
   "source": [
    "# This retrieves the output from the model\n",
    "messages = client.beta.threads.messages.list(\n",
    "    thread_id = thread.id,\n",
    ")\n",
    "\n",
    "for each in messages:\n",
    "  pprint(each.role + \":\" + each.content[0].text.value)"
   ]
  },
  {
   "cell_type": "markdown",
   "metadata": {},
   "source": [
    "# Extract the tool from the robot agent "
   ]
  },
  {
   "cell_type": "code",
   "execution_count": null,
   "metadata": {},
   "outputs": [],
   "source": [
    "# This runs the model with the input from thread\n",
    "tools_to_call = run.required_action.submit_tool_outputs.tool_calls\n",
    "print(len(tools_to_call))\n",
    "print(tools_to_call)"
   ]
  },
  {
   "cell_type": "code",
   "execution_count": null,
   "metadata": {},
   "outputs": [],
   "source": [
    "# prints the 1st tool call name and arguments (there could be more than one tool call so this wont work for all)\n",
    "print(tools_to_call[0].function.name)\n",
    "print(tools_to_call[0].function.arguments)"
   ]
  },
  {
   "cell_type": "code",
   "execution_count": null,
   "metadata": {},
   "outputs": [],
   "source": [
    "# this prints for each tool call the name and arguments\n",
    "tools_output_array = []\n",
    "for each_tool in tools_to_call:\n",
    "  tool_call_id = each_tool.id\n",
    "  function_name = each_tool.function.name\n",
    "  function_arg = each_tool.function.arguments\n",
    "  print(\"Tool ID:\" + tool_call_id)\n",
    "  print(\"Function to Call:\" + function_name )\n",
    "  print(\"Parameters to use:\" + function_arg)\n",
    "\n",
    "  if (function_name == 'direction_to_move'):\n",
    "    output=True\n",
    "\n",
    "  tools_output_array.append({\"tool_call_id\": tool_call_id, \"output\": output})\n",
    "\n",
    "print(tools_output_array)"
   ]
  },
  {
   "cell_type": "code",
   "execution_count": null,
   "metadata": {},
   "outputs": [],
   "source": []
  },
  {
   "cell_type": "markdown",
   "metadata": {},
   "source": [
    "# Use the tool and perform a action "
   ]
  },
  {
   "cell_type": "code",
   "execution_count": null,
   "metadata": {},
   "outputs": [],
   "source": [
    "tool_calls = run.required_action.submit_tool_outputs.tool_calls\n",
    "tool_calls"
   ]
  },
  {
   "cell_type": "code",
   "execution_count": null,
   "metadata": {},
   "outputs": [],
   "source": [
    "json.loads(tool_calls[0].function.arguments)[\"direction\"]\n"
   ]
  },
  {
   "cell_type": "code",
   "execution_count": null,
   "metadata": {},
   "outputs": [],
   "source": [
    "def direction_to_move(direction, speed=50):\n",
    "    return f\"move {direction} at speed {speed}\""
   ]
  },
  {
   "cell_type": "code",
   "execution_count": null,
   "metadata": {},
   "outputs": [],
   "source": [
    "import json\n",
    "\n",
    "def get_outputs_for_tool_call(tool_call):\n",
    "    # calls apis, would need to change to call the function\n",
    "    direction_to_move_robot = json.loads(tool_call.function.arguments)[\"direction\"]\n",
    "    #speed_to_move = json.loads(tool_calls[0].function.arguments)[\"speed\"]\n",
    "    robot_status = direction_to_move(direction_to_move_robot)\n",
    "    return {\n",
    "        \"tool_call_id\": tool_call.id,\n",
    "        \"output\": robot_status\n",
    "        }\n",
    "tool_calls = run.required_action.submit_tool_outputs.tool_calls\n",
    "tool_outputs = map(get_outputs_for_tool_call, tool_calls)\n"
   ]
  },
  {
   "cell_type": "code",
   "execution_count": null,
   "metadata": {},
   "outputs": [],
   "source": [
    "tool_outputs = list(tool_outputs)\n"
   ]
  },
  {
   "cell_type": "code",
   "execution_count": null,
   "metadata": {},
   "outputs": [],
   "source": [
    "tool_outputs"
   ]
  },
  {
   "cell_type": "code",
   "execution_count": null,
   "metadata": {},
   "outputs": [],
   "source": [
    "run = client.beta.threads.runs.submit_tool_outputs(\n",
    "    thread_id=thread.id,\n",
    "    run_id = run.id,\n",
    "    tool_outputs = tool_outputs\n",
    ")"
   ]
  },
  {
   "cell_type": "code",
   "execution_count": null,
   "metadata": {},
   "outputs": [],
   "source": [
    "# This retrieves the output from the model\n",
    "messages = client.beta.threads.messages.list(\n",
    "    thread_id = thread.id,\n",
    ")\n",
    "\n",
    "for each in messages:\n",
    "  pprint(each.role + \":\" + each.content[0].text.value)"
   ]
  },
  {
   "cell_type": "markdown",
   "metadata": {},
   "source": [
    "# removes the agent (assistant)"
   ]
  },
  {
   "cell_type": "code",
   "execution_count": null,
   "metadata": {},
   "outputs": [],
   "source": [
    "# remove assistant \n",
    "response = client.beta.assistants.delete(assistant.id)\n",
    "print(response)"
   ]
  },
  {
   "cell_type": "code",
   "execution_count": 18,
   "metadata": {},
   "outputs": [
    {
     "name": "stdout",
     "output_type": "stream",
     "text": [
      "<?xml version=\"1.0\" encoding=\"UTF-8\"?>\n",
      "<DeviceInfo version=\"2.0\" xmlns=\"http://www.hikvision.com/ver20/XMLSchema\">\n",
      "<deviceName>IP CAMERA</deviceName>\n",
      "<deviceID>95690000-2059-11b3-8149-08a189a203a9</deviceID>\n",
      "<deviceDescription>IPCamera</deviceDescription>\n",
      "<deviceLocation>hangzhou</deviceLocation>\n",
      "<systemContact>Hikvision.China</systemContact>\n",
      "<model>DS-2CD2686G2-IZS</model>\n",
      "<serialNumber>DS-2CD2686G2-IZS20210329AAWRF74547550</serialNumber>\n",
      "<macAddress>08:a1:89:a2:03:a9</macAddress>\n",
      "<firmwareVersion>V5.5.112</firmwareVersion>\n",
      "<firmwareReleasedDate>build 210204</firmwareReleasedDate>\n",
      "<encoderVersion>V7.3</encoderVersion>\n",
      "<encoderReleasedDate>build 210204</encoderReleasedDate>\n",
      "<bootVersion>V1.3.4</bootVersion>\n",
      "<bootReleasedDate>100316</bootReleasedDate>\n",
      "<hardwareVersion>0x0</hardwareVersion>\n",
      "<deviceType>IPCamera</deviceType>\n",
      "<telecontrolID>88</telecontrolID>\n",
      "<supportBeep>false</supportBeep>\n",
      "<supportVideoLoss>false</supportVideoLoss>\n",
      "<firmwareVersionInfo>B-R-G5-0</firmwareVersionInfo>\n",
      "</DeviceInfo>\n",
      "\n"
     ]
    }
   ],
   "source": [
    "\n"
   ]
  },
  {
   "cell_type": "code",
   "execution_count": null,
   "metadata": {},
   "outputs": [],
   "source": []
  },
  {
   "cell_type": "code",
   "execution_count": null,
   "metadata": {},
   "outputs": [],
   "source": []
  }
 ],
 "metadata": {
  "kernelspec": {
   "display_name": "Python 3",
   "language": "python",
   "name": "python3"
  },
  "language_info": {
   "codemirror_mode": {
    "name": "ipython",
    "version": 3
   },
   "file_extension": ".py",
   "mimetype": "text/x-python",
   "name": "python",
   "nbconvert_exporter": "python",
   "pygments_lexer": "ipython3",
   "version": "3.10.9"
  }
 },
 "nbformat": 4,
 "nbformat_minor": 2
}
