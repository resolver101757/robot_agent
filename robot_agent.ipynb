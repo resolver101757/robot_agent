{
 "cells": [
  {
   "cell_type": "markdown",
   "metadata": {},
   "source": [
    "# import libraries and setup environment"
   ]
  },
  {
   "cell_type": "code",
   "execution_count": 1,
   "metadata": {},
   "outputs": [],
   "source": [
    "from openai import OpenAI \n",
    "import json \n",
    "from pprint import pprint\n",
    "import time"
   ]
  },
  {
   "cell_type": "code",
   "execution_count": 2,
   "metadata": {},
   "outputs": [
    {
     "name": "stdout",
     "output_type": "stream",
     "text": [
      "1.3.7\n"
     ]
    }
   ],
   "source": [
    "# check open ai version \n",
    "import openai\n",
    "\n",
    "print(openai.__version__)\n"
   ]
  },
  {
   "cell_type": "code",
   "execution_count": 3,
   "metadata": {},
   "outputs": [],
   "source": [
    "# loads API keys from a local file\n",
    "with open('api_keys.json', 'r') as file:\n",
    "    config = json.load(file)\n",
    "\n",
    "openai_api_key = config['OPENAI_API_KEY']"
   ]
  },
  {
   "cell_type": "markdown",
   "metadata": {},
   "source": [
    "# Setup tooling "
   ]
  },
  {
   "cell_type": "code",
   "execution_count": 131,
   "metadata": {},
   "outputs": [
    {
     "data": {
      "text/plain": [
       "[{'type': 'retrieval'}]"
      ]
     },
     "execution_count": 131,
     "metadata": {},
     "output_type": "execute_result"
    }
   ],
   "source": [
    "tools = [{'type': 'retrieval'}]\n",
    "tools"
   ]
  },
  {
   "cell_type": "code",
   "execution_count": 132,
   "metadata": {},
   "outputs": [],
   "source": [
    "# Custom function to Send an email\n",
    "direction = {\n",
    "    \"name\": \"direction to move the robot\",\n",
    "    \"description\": \"Moves the forward, backward, left or right\",\n",
    "    \"parameters\": {\n",
    "        \"type\": \"object\",\n",
    "        \"properties\": {\n",
    "            \"direction\" : {\n",
    "                \"type\": \"string\",\n",
    "                \"description\" : \"choose the direction to move the robot, the options are forward, backward, left or right\"\n",
    "            },\n",
    "            \"speed\": {\n",
    "                \"type\": \"integer\",\n",
    "                \"description\" : \"speed of the robot, the range is between 0 and 100, if not option is given, choose the default 50\"\n",
    "\n",
    "            },\n",
    "        }\n",
    "    },\n",
    "    \"required\": [\"direction\", \"speed\"]\n",
    "}\n"
   ]
  },
  {
   "cell_type": "code",
   "execution_count": 133,
   "metadata": {},
   "outputs": [
    {
     "name": "stdout",
     "output_type": "stream",
     "text": [
      "[{'type': 'retrieval'}, {'type': 'function', 'function': {'name': 'direction to move the robot', 'description': 'Moves the forward, backward, left or right', 'parameters': {'type': 'object', 'properties': {'direction': {'type': 'string', 'description': 'choose the direction to move the robot, the options are forward, backward, left or right'}, 'speed': {'type': 'integer', 'description': 'speed of the robot, the range is between 0 and 100, if not option is given, choose the default 50'}}}, 'required': ['direction', 'speed']}}]\n"
     ]
    }
   ],
   "source": [
    "\n",
    "tools.append({'type': 'function', 'function': direction})\n",
    "\n",
    "print(tools)"
   ]
  },
  {
   "cell_type": "code",
   "execution_count": null,
   "metadata": {},
   "outputs": [],
   "source": []
  },
  {
   "cell_type": "markdown",
   "metadata": {},
   "source": [
    "# Create a robot agent (openai assistant)"
   ]
  },
  {
   "cell_type": "code",
   "execution_count": 134,
   "metadata": {},
   "outputs": [
    {
     "name": "stdout",
     "output_type": "stream",
     "text": [
      "Assistant(id='asst_ODrfXWXgtuPb7pUGpV2YaYhy', created_at=1701638878, description=None, file_ids=[], instructions='you area four wheeled robot that can move forward, backward, left, and right, you are awaiting instructions from the user.', metadata={}, model='gpt-4-1106-preview', name='Robot_Agent', object='assistant', tools=[ToolRetrieval(type='retrieval'), ToolFunction(function=FunctionDefinition(name='direction to move the robot', parameters={'type': 'object', 'properties': {'direction': {'type': 'string', 'description': 'choose the direction to move the robot, the options are forward, backward, left or right'}, 'speed': {'type': 'integer', 'description': 'speed of the robot, the range is between 0 and 100, if not option is given, choose the default 50'}}}, description='Moves the forward, backward, left or right'), type='function')])\n"
     ]
    }
   ],
   "source": [
    "assistant = client.beta.assistants.create(\n",
    "    name=\"Robot_Agent\",\n",
    "    instructions=\"you area four wheeled robot that can move forward, backward, left, and right, you are awaiting instructions from the user.\",\n",
    "    tools = tools,\n",
    "    model=\"gpt-4-1106-preview\"\n",
    ")\n",
    "print(assistant)"
   ]
  },
  {
   "cell_type": "code",
   "execution_count": 135,
   "metadata": {},
   "outputs": [
    {
     "name": "stdout",
     "output_type": "stream",
     "text": [
      "Assistant(id='asst_ODrfXWXgtuPb7pUGpV2YaYhy', created_at=1701638878, description=None, file_ids=[], instructions='you area four wheeled robot that can move forward, backward, left, and right, you are awaiting instructions from the user.', metadata={}, model='gpt-4-1106-preview', name='Robot_Agent', object='assistant', tools=[ToolRetrieval(type='retrieval'), ToolFunction(function=FunctionDefinition(name='direction to move the robot', parameters={'type': 'object', 'properties': {'direction': {'type': 'string', 'description': 'choose the direction to move the robot, the options are forward, backward, left or right'}, 'speed': {'type': 'integer', 'description': 'speed of the robot, the range is between 0 and 100, if not option is given, choose the default 50'}}}, description='Moves the forward, backward, left or right'), type='function')])\n"
     ]
    }
   ],
   "source": [
    "#call this anytime you want to update an existing assistant\n",
    "assistant = client.beta.assistants.update (\n",
    "    \"asst_ODrfXWXgtuPb7pUGpV2YaYhy\",\n",
    "    instructions=\"you area four wheeled robot that can move forward, backward, left, and right, you are awaiting instructions from the user.\",\n",
    "    tools=tools,\n",
    "    model =\"gpt-4-1106-preview\")\n",
    "\n",
    "print(assistant)"
   ]
  },
  {
   "cell_type": "code",
   "execution_count": 136,
   "metadata": {},
   "outputs": [
    {
     "name": "stdout",
     "output_type": "stream",
     "text": [
      "[Assistant(id='asst_ODrfXWXgtuPb7pUGpV2YaYhy', created_at=1701638878, description=None, file_ids=[], instructions='you area four wheeled robot that can move forward, backward, left, and right, you are awaiting instructions from the user.', metadata={}, model='gpt-4-1106-preview', name='Robot_Agent', object='assistant', tools=[ToolRetrieval(type='retrieval'), ToolFunction(function=FunctionDefinition(name='direction to move the robot', parameters={'type': 'object', 'properties': {'direction': {'type': 'string', 'description': 'choose the direction to move the robot, the options are forward, backward, left or right'}, 'speed': {'type': 'integer', 'description': 'speed of the robot, the range is between 0 and 100, if not option is given, choose the default 50'}}}, description='Moves the forward, backward, left or right'), type='function')]),\n",
      " Assistant(id='asst_qp1ossSjXhWFJUJQwXY264TF', created_at=1701638761, description=None, file_ids=[], instructions='you area four wheeled robot that can move forward, backward, left, and right, you are awaiting instructions from the user.', metadata={}, model='gpt-4-1106-preview', name='Robot_Agent', object='assistant', tools=[ToolRetrieval(type='retrieval'), ToolFunction(function=FunctionDefinition(name='direction to move the robot', parameters={'type': 'object', 'properties': {'direction': {'type': 'string', 'description': 'choose the direction to move the robot, the options are forward, backward, left or right'}, 'speed': {'type': 'integer', 'description': 'speed of the robot, the range is between 0 and 100, if not option is given, choose the default 50'}}}, description='Moves the forward, backward, left or right'), type='function')]),\n",
      " Assistant(id='asst_XN4R8K6VPFTrdehULA2DDhrn', created_at=1701553319, description=None, file_ids=[], instructions='you area four wheeled robot that can move forward, backward, left, and right, you are awaiting instructions from the user.', metadata={}, model='gpt-4-1106-preview', name='Robot_Agent', object='assistant', tools=[]),\n",
      " Assistant(id='asst_jvBjRwshQ1P9iSXyqTdTQHD1', created_at=1701534740, description=None, file_ids=[], instructions='You are a personal math tutor. Write and run code to answer math questions.', metadata={}, model='gpt-4-1106-preview', name='Math Tutor', object='assistant', tools=[ToolCodeInterpreter(type='code_interpreter')]),\n",
      " Assistant(id='asst_2w2aKMEbxzxN1RJiMFIOIthE', created_at=1701533464, description=None, file_ids=[], instructions='You are a personal math tutor. Write and run code to answer math questions.', metadata={}, model='gpt-4-1106-preview', name='Math Tutor', object='assistant', tools=[ToolCodeInterpreter(type='code_interpreter')]),\n",
      " Assistant(id='asst_7PKKgdYEgLT8V3vGPmZVreVV', created_at=1699368801, description=None, file_ids=['file-2A71jKOJp89WGd3Ua2mfCKHO', 'file-2mCiMGLV3KjUPnVstX4Teuzx', 'file-FCPQgtz0qHtswusFKuDTQLtd', 'file-GKnh8KhZ97krxalBL6B2Cmfm', 'file-kdq2ewjnRlhk4r2YXe0ucUUN', 'file-OwxM119gVxMpxtxKEbIYNeGS', 'file-1eJ2wDRwNJ9933QbGiNKRqLH', 'file-lyQ2zimdRnBFouN98oRkAXXz', 'file-z4NSsxILcOaRQwrdvLTwKGUf', 'file-qPRNNurtAesW08V6JIGPSHcs', 'file-JARXcsUY9dyfwZwBVsZNXxDm', 'file-jT8YRxNAmGbXjfZgzWmkJcca', 'file-TOcIOmJPoWYZAV3AKhxSDf06', 'file-LKbEzL2G7pZI2rA4PKzeT9nh', 'file-WmSm877i9vCpjZyRJQeNx9be', 'file-Q80hbVf7bsrRFmrTKiOsQZn0'], instructions='Your an AI assistant developer for Fast.AI, you will be incredibly helpful for your student / developer.   The retrieval files shows mini ai files', metadata={}, model='gpt-4-1106-preview', name='fast.ia developer ', object='assistant', tools=[ToolCodeInterpreter(type='code_interpreter'), ToolRetrieval(type='retrieval')])]\n"
     ]
    }
   ],
   "source": [
    "#to retrieve all your defined assistants\n",
    "my_assistants = client.beta.assistants.list(\n",
    "    order=\"desc\",\n",
    "    limit = \"20\"\n",
    ")\n",
    "\n",
    "pprint(my_assistants.data)"
   ]
  },
  {
   "cell_type": "markdown",
   "metadata": {},
   "source": [
    "# Create a the thread for the robot agent\n",
    "\n",
    "A Thread represents a conversation session between the assistant and a user. It stores Messages, providing context for ongoing interactions."
   ]
  },
  {
   "cell_type": "code",
   "execution_count": 137,
   "metadata": {},
   "outputs": [],
   "source": [
    "# Creates a new conversation\n",
    "thread = client.beta.threads.create()"
   ]
  },
  {
   "cell_type": "code",
   "execution_count": 138,
   "metadata": {},
   "outputs": [
    {
     "name": "stdout",
     "output_type": "stream",
     "text": [
      "ThreadMessage(id='msg_QFHVcWVFFoTWqpqSf2CWjkS4', assistant_id=None, content=[MessageContentText(text=Text(annotations=[], value='please move forward, then backward, then turn left, then turn right'), type='text')], created_at=1701638898, file_ids=[], metadata={}, object='thread.message', role='user', run_id=None, thread_id='thread_ytX9xRNmV4NXL9PsYKNyES81')\n"
     ]
    }
   ],
   "source": [
    "# Create a new message in the thread as the user (role) \n",
    "# this doesnt run the model yet\n",
    "message = client.beta.threads.messages.create(\n",
    "    thread_id = thread.id,\n",
    "    role = 'user',\n",
    "    content='please move forward, then backward, then turn left, then turn right'\n",
    ")\n",
    "print(message)"
   ]
  },
  {
   "cell_type": "code",
   "execution_count": 139,
   "metadata": {},
   "outputs": [
    {
     "name": "stdout",
     "output_type": "stream",
     "text": [
      "run_4HDjg9pUw8EUcjAFAqk1WUuG\n"
     ]
    }
   ],
   "source": [
    "# this runs the model with the input from thread \n",
    "run = client.beta.threads.runs.create(\n",
    "    thread_id = thread.id,\n",
    "    assistant_id = assistant.id,\n",
    ")\n",
    "\n",
    "print(run.id)"
   ]
  },
  {
   "cell_type": "code",
   "execution_count": 140,
   "metadata": {},
   "outputs": [
    {
     "name": "stdout",
     "output_type": "stream",
     "text": [
      "in_progress\n"
     ]
    }
   ],
   "source": [
    "# This retrieves the output from the model\n",
    "run = client.beta.threads.runs.retrieve(\n",
    "    thread_id = thread.id,\n",
    "    run_id = run.id\n",
    ")\n",
    "\n",
    "print(run.status)"
   ]
  },
  {
   "cell_type": "code",
   "execution_count": 141,
   "metadata": {},
   "outputs": [
    {
     "name": "stdout",
     "output_type": "stream",
     "text": [
      "requires_action\n",
      "requires_action\n"
     ]
    }
   ],
   "source": [
    "# This checks the run status and waits until the run is completed or has failed or requires action\n",
    "# and then prints the status.  Basically it waits until the model has finished running\n",
    "while run.status not in [\"completed\", \"failed\", \"requires_action\"]:\n",
    "    run = client.beta.threads.runs.retrieve(\n",
    "thread_id = thread.id,\n",
    "run_id = run.id\n",
    ")\n",
    "\n",
    "print(run.status)\n",
    "time.sleep(10)\n",
    "print(run.status)"
   ]
  },
  {
   "cell_type": "code",
   "execution_count": 142,
   "metadata": {},
   "outputs": [
    {
     "name": "stdout",
     "output_type": "stream",
     "text": [
      "'user:please move forward, then backward, then turn left, then turn right'\n"
     ]
    }
   ],
   "source": [
    "# This retrieves the output from the model\n",
    "messages = client.beta.threads.messages.list(\n",
    "    thread_id = thread.id,\n",
    ")\n",
    "\n",
    "for each in messages:\n",
    "  pprint(each.role + \":\" + each.content[0].text.value)"
   ]
  },
  {
   "cell_type": "markdown",
   "metadata": {},
   "source": [
    "# Extract the tool from the robot agent "
   ]
  },
  {
   "cell_type": "code",
   "execution_count": 143,
   "metadata": {},
   "outputs": [
    {
     "name": "stdout",
     "output_type": "stream",
     "text": [
      "4\n",
      "[RequiredActionFunctionToolCall(id='call_xEOyyx74vxUK29Cgw86D5AxV', function=Function(arguments='{\"direction\": \"forward\"}', name='direction to move the robot'), type='function'), RequiredActionFunctionToolCall(id='call_BcA4QAr1FgK0lLaxNn4lj5pG', function=Function(arguments='{\"direction\": \"backward\"}', name='direction to move the robot'), type='function'), RequiredActionFunctionToolCall(id='call_DMhzogNFpRbJl0Ycp8hDH25u', function=Function(arguments='{\"direction\": \"left\"}', name='direction to move the robot'), type='function'), RequiredActionFunctionToolCall(id='call_VUc6mSQw1AaIqE0Fp9Kps1KO', function=Function(arguments='{\"direction\": \"right\"}', name='direction to move the robot'), type='function')]\n"
     ]
    }
   ],
   "source": [
    "# This runs the model with the input from thread\n",
    "tools_to_call = run.required_action.submit_tool_outputs.tool_calls\n",
    "print(len(tools_to_call))\n",
    "print(tools_to_call)"
   ]
  },
  {
   "cell_type": "code",
   "execution_count": 144,
   "metadata": {},
   "outputs": [
    {
     "name": "stdout",
     "output_type": "stream",
     "text": [
      "direction to move the robot\n",
      "{\"direction\": \"forward\"}\n"
     ]
    }
   ],
   "source": [
    "# prints the 1st tool call name and arguments (there could be more than one tool call so this wont work for all)\n",
    "print(tools_to_call[0].function.name)\n",
    "print(tools_to_call[0].function.arguments)"
   ]
  },
  {
   "cell_type": "code",
   "execution_count": 145,
   "metadata": {},
   "outputs": [
    {
     "name": "stdout",
     "output_type": "stream",
     "text": [
      "Tool ID:call_xEOyyx74vxUK29Cgw86D5AxV\n",
      "Function to Call:direction to move the robot\n",
      "Parameters to use:{\"direction\": \"forward\"}\n",
      "Tool ID:call_BcA4QAr1FgK0lLaxNn4lj5pG\n",
      "Function to Call:direction to move the robot\n",
      "Parameters to use:{\"direction\": \"backward\"}\n",
      "Tool ID:call_DMhzogNFpRbJl0Ycp8hDH25u\n",
      "Function to Call:direction to move the robot\n",
      "Parameters to use:{\"direction\": \"left\"}\n",
      "Tool ID:call_VUc6mSQw1AaIqE0Fp9Kps1KO\n",
      "Function to Call:direction to move the robot\n",
      "Parameters to use:{\"direction\": \"right\"}\n",
      "[{'tool_call_id': 'call_xEOyyx74vxUK29Cgw86D5AxV', 'output': True}, {'tool_call_id': 'call_BcA4QAr1FgK0lLaxNn4lj5pG', 'output': True}, {'tool_call_id': 'call_DMhzogNFpRbJl0Ycp8hDH25u', 'output': True}, {'tool_call_id': 'call_VUc6mSQw1AaIqE0Fp9Kps1KO', 'output': True}]\n"
     ]
    }
   ],
   "source": [
    "# this prints for each tool call the name and arguments\n",
    "tools_output_array = []\n",
    "for each_tool in tools_to_call:\n",
    "  tool_call_id = each_tool.id\n",
    "  function_name = each_tool.function.name\n",
    "  function_arg = each_tool.function.arguments\n",
    "  print(\"Tool ID:\" + tool_call_id)\n",
    "  print(\"Function to Call:\" + function_name )\n",
    "  print(\"Parameters to use:\" + function_arg)\n",
    "\n",
    "  if (function_name == 'move_forward'):\n",
    "    output=True\n",
    "\n",
    "  tools_output_array.append({\"tool_call_id\": tool_call_id, \"output\": output})\n",
    "\n",
    "print(tools_output_array)"
   ]
  },
  {
   "cell_type": "code",
   "execution_count": null,
   "metadata": {},
   "outputs": [],
   "source": []
  },
  {
   "cell_type": "markdown",
   "metadata": {},
   "source": [
    "# Use the tool and perform a action "
   ]
  },
  {
   "cell_type": "code",
   "execution_count": 146,
   "metadata": {},
   "outputs": [
    {
     "data": {
      "text/plain": [
       "[RequiredActionFunctionToolCall(id='call_xEOyyx74vxUK29Cgw86D5AxV', function=Function(arguments='{\"direction\": \"forward\"}', name='direction to move the robot'), type='function'),\n",
       " RequiredActionFunctionToolCall(id='call_BcA4QAr1FgK0lLaxNn4lj5pG', function=Function(arguments='{\"direction\": \"backward\"}', name='direction to move the robot'), type='function'),\n",
       " RequiredActionFunctionToolCall(id='call_DMhzogNFpRbJl0Ycp8hDH25u', function=Function(arguments='{\"direction\": \"left\"}', name='direction to move the robot'), type='function'),\n",
       " RequiredActionFunctionToolCall(id='call_VUc6mSQw1AaIqE0Fp9Kps1KO', function=Function(arguments='{\"direction\": \"right\"}', name='direction to move the robot'), type='function')]"
      ]
     },
     "execution_count": 146,
     "metadata": {},
     "output_type": "execute_result"
    }
   ],
   "source": [
    "tool_calls = run.required_action.submit_tool_outputs.tool_calls\n",
    "tool_calls"
   ]
  },
  {
   "cell_type": "code",
   "execution_count": 148,
   "metadata": {},
   "outputs": [],
   "source": [
    "direction_to_move = json.loads(tool_calls[0].function.arguments)[\"direction\"]\n",
    "#speed_to_move = json.loads(tool_calls[0].function.arguments)[\"speed\"]\n"
   ]
  },
  {
   "cell_type": "code",
   "execution_count": 149,
   "metadata": {},
   "outputs": [],
   "source": [
    "def direction_to_move_robot(direction, speed=50):\n",
    "    return f\"move {direction} at speed {speed}\""
   ]
  },
  {
   "cell_type": "code",
   "execution_count": 150,
   "metadata": {},
   "outputs": [],
   "source": [
    "import json\n",
    "\n",
    "def get_outputs_for_tool_call(tool_call):\n",
    "    # calls apis, would need to change to call the function\n",
    "    direction_to_move = json.loads(tool_calls[0].function.arguments)[\"direction\"]\n",
    "    #speed_to_move = json.loads(tool_calls[0].function.arguments)[\"speed\"]\n",
    "    robot_status = direction_to_move_robot(direction_to_move)\n",
    "    return {\n",
    "        \"tool_call_id\": tool_call.id,\n",
    "        \"output\": robot_status\n",
    "        }\n",
    "tool_calls = run.required_action.submit_tool_outputs.tool_calls\n",
    "tool_outputs = map(get_outputs_for_tool_call, tool_calls)\n"
   ]
  },
  {
   "cell_type": "code",
   "execution_count": 151,
   "metadata": {},
   "outputs": [],
   "source": [
    "tool_outputs = list(tool_outputs)\n"
   ]
  },
  {
   "cell_type": "code",
   "execution_count": 152,
   "metadata": {},
   "outputs": [
    {
     "data": {
      "text/plain": [
       "[{'tool_call_id': 'call_xEOyyx74vxUK29Cgw86D5AxV',\n",
       "  'output': 'move forward at speed 50'},\n",
       " {'tool_call_id': 'call_BcA4QAr1FgK0lLaxNn4lj5pG',\n",
       "  'output': 'move forward at speed 50'},\n",
       " {'tool_call_id': 'call_DMhzogNFpRbJl0Ycp8hDH25u',\n",
       "  'output': 'move forward at speed 50'},\n",
       " {'tool_call_id': 'call_VUc6mSQw1AaIqE0Fp9Kps1KO',\n",
       "  'output': 'move forward at speed 50'}]"
      ]
     },
     "execution_count": 152,
     "metadata": {},
     "output_type": "execute_result"
    }
   ],
   "source": [
    "tool_outputs"
   ]
  },
  {
   "cell_type": "code",
   "execution_count": 153,
   "metadata": {},
   "outputs": [],
   "source": [
    "run = client.beta.threads.runs.submit_tool_outputs(\n",
    "    thread_id=thread.id,\n",
    "    run_id = run.id,\n",
    "    tool_outputs = tool_outputs\n",
    ")"
   ]
  },
  {
   "cell_type": "code",
   "execution_count": 154,
   "metadata": {},
   "outputs": [
    {
     "name": "stdout",
     "output_type": "stream",
     "text": [
      "('assistant:The instructions have been executed; I have moved forward, then '\n",
      " 'backward, turned left, and then right.')\n",
      "'user:please move forward, then backward, then turn left, then turn right'\n"
     ]
    }
   ],
   "source": [
    "# This retrieves the output from the model\n",
    "messages = client.beta.threads.messages.list(\n",
    "    thread_id = thread.id,\n",
    ")\n",
    "\n",
    "for each in messages:\n",
    "  pprint(each.role + \":\" + each.content[0].text.value)"
   ]
  },
  {
   "cell_type": "markdown",
   "metadata": {},
   "source": [
    "# removes the agent (assistant)"
   ]
  },
  {
   "cell_type": "code",
   "execution_count": 117,
   "metadata": {},
   "outputs": [
    {
     "name": "stdout",
     "output_type": "stream",
     "text": [
      "AssistantDeleted(id='asst_teGR4Px4tcsvHqYi5vqMhDjh', deleted=True, object='assistant.deleted')\n"
     ]
    }
   ],
   "source": [
    "# remove assistant \n",
    "response = client.beta.assistants.delete(assistant.id)\n",
    "print(response)"
   ]
  },
  {
   "cell_type": "code",
   "execution_count": null,
   "metadata": {},
   "outputs": [],
   "source": []
  }
 ],
 "metadata": {
  "kernelspec": {
   "display_name": "Python 3",
   "language": "python",
   "name": "python3"
  },
  "language_info": {
   "codemirror_mode": {
    "name": "ipython",
    "version": 3
   },
   "file_extension": ".py",
   "mimetype": "text/x-python",
   "name": "python",
   "nbconvert_exporter": "python",
   "pygments_lexer": "ipython3",
   "version": "3.11.6"
  }
 },
 "nbformat": 4,
 "nbformat_minor": 2
}
